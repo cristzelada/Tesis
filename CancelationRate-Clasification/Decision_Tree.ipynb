{
 "cells": [
  {
   "cell_type": "code",
   "execution_count": 1,
   "metadata": {},
   "outputs": [],
   "source": [
    "#Importar librerias\n",
    "\n",
    "import numpy as np\n",
    "import pandas as pd\n",
    "import sklearn\n",
    "import time\n",
    "\n",
    "from sklearn import metrics\n",
    "from sklearn.metrics import accuracy_score\n",
    "\n",
    "from sklearn import tree\n",
    "from sklearn.tree import DecisionTreeClassifier, export_graphviz\n",
    "\n",
    "from sklearn.model_selection import train_test_split\n",
    "from sklearn.model_selection import cross_val_score\n",
    "from sklearn.metrics import classification_report\n",
    "\n",
    "#pip install imblearn\n",
    "from imblearn.over_sampling import SMOTE\n",
    "\n",
    "import warnings\n",
    "warnings.filterwarnings('ignore')\n"
   ]
  },
  {
   "cell_type": "code",
   "execution_count": 2,
   "metadata": {},
   "outputs": [],
   "source": [
    "#Iniciarlizar tiempo para calculo de demora\n",
    "start_time = time.time()\n",
    "\n",
    "#Importar data\n",
    "data = pd.read_csv('./data/CancelacionInfo.csv')\n",
    "\n",
    "#Extraer features\n",
    "features = np.array(data[['ReservationMonth','ChannelCode','TypeRoom', 'LeadTime', 'NumberRooms', 'NumNights', 'RoomRate']])\n",
    "\n",
    "#Extraer variable dependiente\n",
    "labels = np.array(data[['IsCancel?']])\n",
    "\n",
    "#Divicion de informacion en prueba y entrenamiento\n",
    "X_train, X_test, y_train, y_test = train_test_split(\n",
    "    features,\n",
    "    labels,\n",
    "    test_size=0.3,\n",
    "    random_state=42,\n",
    ")\n",
    "\n",
    "#hacer Oversample data (clase minoritaria)\n",
    "#sm = SMOTE(random_state=12, ratio = 1.0)\n",
    "#x_train_res, y_train_res = sm.fit_sample(X_train, y_train)\n",
    "\n",
    "#Iniciarlizar modelo clasificador\n",
    "clf = DecisionTreeClassifier()\n",
    "\n",
    "#Entrenar modelo\n",
    "clf.fit(X_train,y_train)\n",
    "\n",
    "#Calculo de la eficiencia con data de prueba\n",
    "score = clf.score(X_test, y_test)\n",
    "\n",
    "#Calculo prediccion de prueba\n",
    "Y_predict = clf.predict(X_test)"
   ]
  },
  {
   "cell_type": "code",
   "execution_count": 3,
   "metadata": {},
   "outputs": [
    {
     "name": "stdout",
     "output_type": "stream",
     "text": [
      "Tiempo de demora validacion simple : 1.736675500869751 segundos\n",
      "Eficiencia:  59.557867360208064 %\n",
      "\n",
      "Tiempo de demora validacion cruzada :1.7636797428131104 segundos\n",
      "Eficiencia cruzada 1 :  53.45029239766082 %\n",
      "Eficiencia cruzada 2 :  54.161781946072686 %\n",
      "Eficiencia cruzada 3 :  64.36107854630716 %\n"
     ]
    }
   ],
   "source": [
    "print(\"Tiempo de demora validacion simple : %s segundos\" % (time.time() - start_time))\n",
    "print(\"Eficiencia: \", str(score * 100), \"%\")\n",
    "print(\"\")\n",
    "[validacion1, validacion2, validacion3]  = cross_val_score(clf, features, labels)\n",
    "print(\"Tiempo de demora validacion cruzada :%s segundos\" % (time.time() - start_time))\n",
    "print(\"Eficiencia cruzada 1 : \", str(validacion1 * 100), \"%\")\n",
    "print(\"Eficiencia cruzada 2 : \", str(validacion2 * 100), \"%\")\n",
    "print(\"Eficiencia cruzada 3 : \", str(validacion3 * 100), \"%\")"
   ]
  },
  {
   "cell_type": "code",
   "execution_count": 4,
   "metadata": {},
   "outputs": [
    {
     "name": "stdout",
     "output_type": "stream",
     "text": [
      "X_train:  (1792, 7)\n",
      "X_test:  (769, 7)\n",
      "y_train:  (1792, 1)\n",
      "y_test:  (769, 1)\n"
     ]
    }
   ],
   "source": [
    "print(\"X_train: \", X_train.shape)\n",
    "print(\"X_test: \", X_test.shape)\n",
    "print(\"y_train: \", y_train.shape)\n",
    "print(\"y_test: \", y_test.shape)"
   ]
  },
  {
   "cell_type": "code",
   "execution_count": 5,
   "metadata": {},
   "outputs": [
    {
     "name": "stdout",
     "output_type": "stream",
     "text": [
      "[[145 146]\n",
      " [165 313]]\n"
     ]
    }
   ],
   "source": [
    "from sklearn.metrics import confusion_matrix\n",
    "confusion_matrix = confusion_matrix(y_test, Y_predict)\n",
    "print(confusion_matrix)"
   ]
  },
  {
   "cell_type": "code",
   "execution_count": null,
   "metadata": {},
   "outputs": [],
   "source": []
  },
  {
   "cell_type": "code",
   "execution_count": 6,
   "metadata": {},
   "outputs": [
    {
     "data": {
      "text/plain": [
       "Text(0.5, 257.44, 'Predicted label')"
      ]
     },
     "execution_count": 6,
     "metadata": {},
     "output_type": "execute_result"
    },
    {
     "data": {
      "image/png": "[encoded data removed]",
      "text/plain": [
       "<Figure size 432x288 with 2 Axes>"
      ]
     },
     "metadata": {
      "needs_background": "light"
     },
     "output_type": "display_data"
    }
   ],
   "source": [
    "# import required modules\n",
    "import numpy as np\n",
    "import matplotlib.pyplot as plt\n",
    "import seaborn as sns\n",
    "%matplotlib inline\n",
    "\n",
    "class_names=[0,1] # name  of classes\n",
    "fig, ax = plt.subplots()\n",
    "tick_marks = np.arange(len(class_names))\n",
    "plt.xticks(tick_marks, class_names)\n",
    "plt.yticks(tick_marks, class_names)\n",
    "\n",
    "# create heatmap\n",
    "sns.heatmap(pd.DataFrame(confusion_matrix), annot=True, cmap=\"YlGnBu\" ,fmt='g')\n",
    "ax.xaxis.set_label_position(\"top\")\n",
    "plt.tight_layout()\n",
    "plt.title('Confusion matrix', y=1.1)\n",
    "plt.ylabel('Actual label')\n",
    "plt.xlabel('Predicted label')"
   ]
  },
  {
   "cell_type": "code",
   "execution_count": 7,
   "metadata": {},
   "outputs": [
    {
     "name": "stdout",
     "output_type": "stream",
     "text": [
      "Accuracy: 0.5955786736020806\n",
      "Precision: 0.681917211328976\n",
      "Recall: 0.6548117154811716\n",
      "f-score: 0.6680896478121664\n"
     ]
    }
   ],
   "source": [
    "print(\"Accuracy:\",metrics.accuracy_score(y_test, Y_predict))\n",
    "print(\"Precision:\",metrics.precision_score(y_test, Y_predict))\n",
    "print(\"Recall:\",metrics.recall_score(y_test, Y_predict))\n",
    "print(\"f-score:\",metrics.f1_score(y_test, Y_predict))"
   ]
  },
  {
   "cell_type": "code",
   "execution_count": 8,
   "metadata": {},
   "outputs": [
    {
     "name": "stdout",
     "output_type": "stream",
     "text": [
      "              precision    recall  f1-score   support\n",
      "\n",
      "           0       0.47      0.50      0.48       291\n",
      "           1       0.68      0.65      0.67       478\n",
      "\n",
      "   micro avg       0.60      0.60      0.60       769\n",
      "   macro avg       0.57      0.58      0.58       769\n",
      "weighted avg       0.60      0.60      0.60       769\n",
      "\n"
     ]
    }
   ],
   "source": [
    "print(classification_report(y_test, Y_predict))"
   ]
  },
  {
   "cell_type": "code",
   "execution_count": 9,
   "metadata": {},
   "outputs": [
    {
     "data": {
      "image/png": "[encoded data removed]",
      "text/plain": [
       "<Figure size 432x288 with 1 Axes>"
      ]
     },
     "metadata": {
      "needs_background": "light"
     },
     "output_type": "display_data"
    }
   ],
   "source": [
    "y_pred_proba = clf.predict_proba(X_test)[::,1]\n",
    "fpr, tpr, _ = metrics.roc_curve(y_test,  y_pred_proba)\n",
    "auc = metrics.roc_auc_score(y_test, y_pred_proba)\n",
    "plt.plot(fpr,tpr,label=\"data 1, auc=\"+str(auc))\n",
    "plt.legend(loc=4)\n",
    "plt.show()"
   ]
  },
  {
   "cell_type": "code",
   "execution_count": null,
   "metadata": {},
   "outputs": [],
   "source": []
  },
  {
   "cell_type": "code",
   "execution_count": 10,
   "metadata": {},
   "outputs": [
    {
     "name": "stdout",
     "output_type": "stream",
     "text": [
      "Tiempo de demora validacion cruzada : 8.909610033035278 segundos\n",
      "\n",
      "Model Score: 0.5955786736020806\n",
      "\n",
      "Cross Validated Score 10 Fold: [0.5        0.64935065 0.51948052 0.57142857 0.54545455 0.58441558\n",
      " 0.64935065 0.5974026  0.60526316 0.53947368]\n",
      "\n",
      "Cross Validated MEAN Score 10 Fold: 0.576161995898838\n",
      "Cross Validated STD Score 10 Fold: 0.04837783057985716\n",
      "\n",
      "The mean score and the 95% confidence interval of the score estimate are hence given by:\n",
      "Accuracy: 0.58 (+/- 0.10)\n"
     ]
    }
   ],
   "source": [
    "# Scoring model on testing data (k=10)\n",
    "\n",
    "scores = cross_val_score(clf,X_test, np.ravel(y_test),cv=10)\n",
    "\n",
    "print(\"Tiempo de demora validacion cruzada : %s segundos\" % (time.time() - start_time))\n",
    "print(\"\")\n",
    "print('Model Score:',score)\n",
    "print(\"\")\n",
    "print('Cross Validated Score 10 Fold:',scores)\n",
    "print(\"\")\n",
    "print('Cross Validated MEAN Score 10 Fold:',scores.mean())\n",
    "print('Cross Validated STD Score 10 Fold:',scores.std())\n",
    "print(\"\")\n",
    "print(\"The mean score and the 95% confidence interval of the score estimate are hence given by:\")\n",
    "print(\"Accuracy: %0.2f (+/- %0.2f)\" % (scores.mean(), scores.std() * 2))"
   ]
  },
  {
   "cell_type": "code",
   "execution_count": null,
   "metadata": {},
   "outputs": [],
   "source": []
  },
  {
   "cell_type": "code",
   "execution_count": null,
   "metadata": {},
   "outputs": [],
   "source": []
  },
  {
   "cell_type": "code",
   "execution_count": null,
   "metadata": {},
   "outputs": [],
   "source": []
  },
  {
   "cell_type": "code",
   "execution_count": null,
   "metadata": {},
   "outputs": [],
   "source": []
  }
 ],
 "metadata": {
  "kernelspec": {
   "display_name": "Python 2",
   "language": "python",
   "name": "python2"
  },
  "language_info": {
   "codemirror_mode": {
    "name": "ipython",
    "version": 2
   },
   "file_extension": ".py",
   "mimetype": "text/x-python",
   "name": "python",
   "nbconvert_exporter": "python",
   "pygments_lexer": "ipython2",
   "version": "2.7.16"
  }
 },
 "nbformat": 4,
 "nbformat_minor": 2
}
