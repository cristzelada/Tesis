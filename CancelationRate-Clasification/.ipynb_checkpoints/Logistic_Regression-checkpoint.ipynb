{
 "cells": [
  {
   "cell_type": "code",
   "execution_count": 1,
   "metadata": {},
   "outputs": [],
   "source": [
    "#Importar librerias\n",
    "import numpy as np\n",
    "import pandas as pd\n",
    "import sklearn\n",
    "import time\n",
    "\n",
    "from sklearn.linear_model import LogisticRegression\n",
    "\n",
    "from sklearn.model_selection import train_test_split\n",
    "from sklearn.model_selection import cross_val_score\n",
    "from sklearn.metrics import classification_report\n",
    "\n",
    "#pip install imblearn\n",
    "from imblearn.over_sampling import SMOTE\n",
    "\n",
    "import warnings\n",
    "warnings.filterwarnings('ignore')"
   ]
  },
  {
   "cell_type": "code",
   "execution_count": 2,
   "metadata": {},
   "outputs": [],
   "source": [
    "#Iniciarlizar tiempo para calculo de demora\n",
    "start_time = time.time()\n",
    "\n",
    "#Importar data\n",
    "data = pd.read_csv('./data/CancelacionInfo.csv')\n",
    "\n",
    "#Extraer features\n",
    "features = np.array(data[['ReservationMonth','ChannelCode','TypeRoom', 'LeadTime', 'NumberRooms', 'NumNights', 'RoomRate']])\n",
    "\n",
    "#Extraer variable dependiente\n",
    "labels = np.array(data[['IsCancel?']])\n",
    "\n",
    "#Divicion de informacion en prueba y entrenamiento\n",
    "X_train, X_test, y_train, y_test = train_test_split(\n",
    "    features,\n",
    "    labels,\n",
    "    test_size=0.3,\n",
    "    random_state=42,\n",
    ")\n",
    "\n",
    "#hacer Oversample data (clase minoritaria)\n",
    "#sm = SMOTE(random_state=12, ratio = 1.0)\n",
    "#x_train_res, y_train_res = sm.fit_sample(X_train, y_train)\n",
    "\n",
    "#Iniciarlizar modelo clasificador\n",
    "clf = LogisticRegression()\n",
    "\n",
    "#Entrenar modelo\n",
    "clf.fit(X_train, y_train)\n",
    "\n",
    "#Calculo de la eficiencia con data de prueba\n",
    "score = clf.score(X_test, y_test)\n",
    "\n",
    "#Calculo prediccion de prueba\n",
    "Y_predict = clf.predict(X_test)\n"
   ]
  },
  {
   "cell_type": "code",
   "execution_count": 3,
   "metadata": {},
   "outputs": [
    {
     "name": "stdout",
     "output_type": "stream",
     "text": [
      "Tiempo de demora validacion simple : 0.04497241973876953 segundos\n",
      "Eficiencia:  69.70091027308193 %\n",
      "\n",
      "Tiempo de demora validacion cruzada :0.07596874237060547 segundos\n",
      "Eficiencia cruzada 1 :  69.70760233918128 %\n",
      "Eficiencia cruzada 2 :  71.74677608440797 %\n",
      "Eficiencia cruzada 3 :  70.57444314185229 %\n"
     ]
    }
   ],
   "source": [
    "print(\"Tiempo de demora validacion simple : %s segundos\" % (time.time() - start_time))\n",
    "print(\"Eficiencia: \", str(score * 100), \"%\")\n",
    "print(\"\")\n",
    "[validacion1, validacion2, validacion3]  = cross_val_score(clf, features, labels)\n",
    "print(\"Tiempo de demora validacion cruzada :%s segundos\" % (time.time() - start_time))\n",
    "print(\"Eficiencia cruzada 1 : \", str(validacion1 * 100), \"%\")\n",
    "print(\"Eficiencia cruzada 2 : \", str(validacion2 * 100), \"%\")\n",
    "print(\"Eficiencia cruzada 3 : \", str(validacion3 * 100), \"%\")"
   ]
  },
  {
   "cell_type": "code",
   "execution_count": 4,
   "metadata": {},
   "outputs": [
    {
     "name": "stdout",
     "output_type": "stream",
     "text": [
      "X_train:  (1792, 7)\n",
      "X_test:  (769, 7)\n",
      "y_train:  (1792, 1)\n",
      "y_test:  (769, 1)\n"
     ]
    }
   ],
   "source": [
    "print(\"X_train: \", X_train.shape)\n",
    "print(\"X_test: \", X_test.shape)\n",
    "print(\"y_train: \", y_train.shape)\n",
    "print(\"y_test: \", y_test.shape)"
   ]
  },
  {
   "cell_type": "code",
   "execution_count": 5,
   "metadata": {},
   "outputs": [
    {
     "data": {
      "text/plain": [
       "array([[110, 181],\n",
       "       [ 52, 426]], dtype=int64)"
      ]
     },
     "execution_count": 5,
     "metadata": {},
     "output_type": "execute_result"
    }
   ],
   "source": [
    "from sklearn import metrics\n",
    "cnf_matrix = metrics.confusion_matrix(y_test, Y_predict)\n",
    "cnf_matrix"
   ]
  },
  {
   "cell_type": "code",
   "execution_count": 6,
   "metadata": {},
   "outputs": [
    {
     "name": "stdout",
     "output_type": "stream",
     "text": [
      "              precision    recall  f1-score   support\n",
      "\n",
      "           0       0.68      0.38      0.49       291\n",
      "           1       0.70      0.89      0.79       478\n",
      "\n",
      "   micro avg       0.70      0.70      0.70       769\n",
      "   macro avg       0.69      0.63      0.64       769\n",
      "weighted avg       0.69      0.70      0.67       769\n",
      "\n"
     ]
    }
   ],
   "source": [
    "print(classification_report(y_test, Y_predict))"
   ]
  },
  {
   "cell_type": "code",
   "execution_count": 7,
   "metadata": {},
   "outputs": [
    {
     "data": {
      "text/plain": [
       "Text(0.5, 257.44, 'Predicted label')"
      ]
     },
     "execution_count": 7,
     "metadata": {},
     "output_type": "execute_result"
    },
    {
     "data": {
      "image/png": "[encoded data removed]",
      "text/plain": [
       "<Figure size 432x288 with 2 Axes>"
      ]
     },
     "metadata": {
      "needs_background": "light"
     },
     "output_type": "display_data"
    }
   ],
   "source": [
    "# import required modules\n",
    "import numpy as np\n",
    "import matplotlib.pyplot as plt\n",
    "import seaborn as sns\n",
    "%matplotlib inline\n",
    "\n",
    "class_names=[0,1] # name  of classes\n",
    "fig, ax = plt.subplots()\n",
    "tick_marks = np.arange(len(class_names))\n",
    "plt.xticks(tick_marks, class_names)\n",
    "plt.yticks(tick_marks, class_names)\n",
    "\n",
    "# create heatmap\n",
    "sns.heatmap(pd.DataFrame(cnf_matrix), annot=True, cmap=\"YlGnBu\" ,fmt='g')\n",
    "ax.xaxis.set_label_position(\"top\")\n",
    "plt.tight_layout()\n",
    "plt.title('Confusion matrix', y=1.1)\n",
    "plt.ylabel('Actual label')\n",
    "plt.xlabel('Predicted label')"
   ]
  },
  {
   "cell_type": "code",
   "execution_count": 8,
   "metadata": {},
   "outputs": [
    {
     "name": "stdout",
     "output_type": "stream",
     "text": [
      "Accuracy: 0.6970091027308193\n",
      "Precision: 0.7018121911037891\n",
      "Recall: 0.891213389121339\n"
     ]
    }
   ],
   "source": [
    "print(\"Accuracy:\",metrics.accuracy_score(y_test, Y_predict))\n",
    "print(\"Precision:\",metrics.precision_score(y_test, Y_predict))\n",
    "print(\"Recall:\",metrics.recall_score(y_test, Y_predict))"
   ]
  },
  {
   "cell_type": "code",
   "execution_count": 9,
   "metadata": {},
   "outputs": [
    {
     "data": {
      "image/png": "[encoded data removed]",
      "text/plain": [
       "<Figure size 432x288 with 1 Axes>"
      ]
     },
     "metadata": {
      "needs_background": "light"
     },
     "output_type": "display_data"
    }
   ],
   "source": [
    "y_pred_proba = clf.predict_proba(X_test)[::,1]\n",
    "fpr, tpr, _ = metrics.roc_curve(y_test,  y_pred_proba)\n",
    "auc = metrics.roc_auc_score(y_test, y_pred_proba)\n",
    "plt.plot(fpr,tpr,label=\"data 1, auc=\"+str(auc))\n",
    "plt.legend(loc=4)\n",
    "plt.show()"
   ]
  },
  {
   "cell_type": "code",
   "execution_count": null,
   "metadata": {},
   "outputs": [],
   "source": []
  },
  {
   "cell_type": "code",
   "execution_count": null,
   "metadata": {},
   "outputs": [],
   "source": []
  }
 ],
 "metadata": {
  "kernelspec": {
   "display_name": "Python 3",
   "language": "python",
   "name": "python3"
  },
  "language_info": {
   "codemirror_mode": {
    "name": "ipython",
    "version": 3
   },
   "file_extension": ".py",
   "mimetype": "text/x-python",
   "name": "python",
   "nbconvert_exporter": "python",
   "pygments_lexer": "ipython3",
   "version": "3.7.3"
  }
 },
 "nbformat": 4,
 "nbformat_minor": 2
}
