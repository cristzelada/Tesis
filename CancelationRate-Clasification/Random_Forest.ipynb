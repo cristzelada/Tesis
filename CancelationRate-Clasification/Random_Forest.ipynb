{
 "cells": [
  {
   "cell_type": "code",
   "execution_count": 1,
   "metadata": {},
   "outputs": [],
   "source": [
    "#Importar librerias\n",
    "\n",
    "import numpy as np\n",
    "import pandas as pd\n",
    "import sklearn\n",
    "import time\n",
    "\n",
    "from sklearn import metrics\n",
    "from sklearn.metrics import accuracy_score\n",
    "from sklearn.metrics import recall_score\n",
    "from sklearn.metrics import classification_report\n",
    "\n",
    "from sklearn.ensemble import RandomForestClassifier\n",
    "from sklearn.tree import DecisionTreeClassifier\n",
    "\n",
    "from sklearn.model_selection import train_test_split\n",
    "from sklearn.model_selection import cross_val_score\n",
    "\n",
    "#pip install imblearn\n",
    "from imblearn.over_sampling import SMOTE\n",
    "from collections import Counter\n",
    "\n",
    "from sklearn.metrics import recall_score as recall\n",
    "from sklearn.metrics import precision_score as precision\n",
    "\n",
    "import warnings\n",
    "warnings.filterwarnings('ignore')"
   ]
  },
  {
   "cell_type": "code",
   "execution_count": 3,
   "metadata": {},
   "outputs": [],
   "source": [
    "#Iniciarlizar tiempo para calculo de demora\n",
    "start_time = time.time()\n",
    "\n",
    "#Importar data\n",
    "data = pd.read_csv('./data/CancelacionInfo.csv')\n",
    "\n",
    "#Extraer features\n",
    "features = np.array(data[['ReservationMonth','ChannelCode','TypeRoom', 'LeadTime', 'NumberRooms', 'NumNights', 'RoomRate']])\n",
    "\n",
    "#Extraer variable dependiente\n",
    "labels = np.array(data[['IsCancel?']])\n",
    "\n",
    "#Divicion de informacion en prueba y entrenamiento\n",
    "X_train, X_test, y_train, y_test = train_test_split(\n",
    "    features,\n",
    "    labels,\n",
    "    test_size=0.3,\n",
    "    random_state=42,\n",
    ")\n",
    "\n",
    "\n",
    "#hacer Oversample data (clase minoritaria)\n",
    "#sm = SMOTE(random_state=12, ratio = 1.0)\n",
    "#x_train_res, y_train_res = sm.fit_sample(X_train, y_train)\n",
    "\n",
    "#Iniciarlizar modelo clasificador\n",
    "clf = RandomForestClassifier(bootstrap=True, class_weight=None, criterion='gini',\n",
    "            max_depth=None, max_features='auto', max_leaf_nodes=None,\n",
    "            min_impurity_decrease=0.0, min_impurity_split=None,\n",
    "            min_samples_leaf=1, min_samples_split=2,\n",
    "            min_weight_fraction_leaf=0.0, n_estimators=100, n_jobs=1,\n",
    "            oob_score=False, random_state=None, verbose=0,\n",
    "            warm_start=False)\n",
    "\n",
    "#Entrenar modelo\n",
    "clf.fit(X_train, y_train)\n",
    "\n",
    "#Calculo de la eficiencia con data de prueba\n",
    "score = clf.score(X_test, y_test)\n",
    "\n",
    "#Calculo prediccion de prueba\n",
    "Y_predict = clf.predict(X_test)"
   ]
  },
  {
   "cell_type": "code",
   "execution_count": 4,
   "metadata": {},
   "outputs": [
    {
     "name": "stdout",
     "output_type": "stream",
     "text": [
      "Tiempo de demora validacion simple : 0.22216200828552246 segundos\n",
      "Eficiencia:  66.44993498049415 %\n",
      "\n",
      "Tiempo de demora validacion cruzada :0.7731308937072754 segundos\n",
      "Eficiencia cruzada 1 :  63.1578947368421 %\n",
      "Eficiencia cruzada 2 :  61.1957796014068 %\n",
      "Eficiencia cruzada 3 :  68.2297772567409 %\n"
     ]
    }
   ],
   "source": [
    "print(\"Tiempo de demora validacion simple : %s segundos\" % (time.time() - start_time))\n",
    "print(\"Eficiencia: \", str(score * 100), \"%\")\n",
    "print(\"\")\n",
    "[validacion1, validacion2, validacion3]  = cross_val_score(clf, features, labels)\n",
    "print(\"Tiempo de demora validacion cruzada :%s segundos\" % (time.time() - start_time))\n",
    "print(\"Eficiencia cruzada 1 : \", str(validacion1 * 100), \"%\")\n",
    "print(\"Eficiencia cruzada 2 : \", str(validacion2 * 100), \"%\")\n",
    "print(\"Eficiencia cruzada 3 : \", str(validacion3 * 100), \"%\")"
   ]
  },
  {
   "cell_type": "code",
   "execution_count": 5,
   "metadata": {},
   "outputs": [
    {
     "name": "stdout",
     "output_type": "stream",
     "text": [
      "X_train:  (1792, 7)\n",
      "X_test:  (769, 7)\n",
      "y_train:  (1792, 1)\n",
      "y_test:  (769, 1)\n"
     ]
    }
   ],
   "source": [
    "print(\"X_train: \", X_train.shape)\n",
    "print(\"X_test: \", X_test.shape)\n",
    "print(\"y_train: \", y_train.shape)\n",
    "print(\"y_test: \", y_test.shape)"
   ]
  },
  {
   "cell_type": "code",
   "execution_count": 6,
   "metadata": {},
   "outputs": [
    {
     "name": "stdout",
     "output_type": "stream",
     "text": [
      "[[131 160]\n",
      " [ 98 380]]\n"
     ]
    }
   ],
   "source": [
    "from sklearn.metrics import confusion_matrix\n",
    "confusion_matrix = confusion_matrix(y_test, Y_predict)\n",
    "print(confusion_matrix)"
   ]
  },
  {
   "cell_type": "code",
   "execution_count": null,
   "metadata": {},
   "outputs": [],
   "source": []
  },
  {
   "cell_type": "code",
   "execution_count": 7,
   "metadata": {},
   "outputs": [
    {
     "data": {
      "text/plain": [
       "Text(0.5, 257.44, 'Predicted label')"
      ]
     },
     "execution_count": 7,
     "metadata": {},
     "output_type": "execute_result"
    },
    {
     "data": {
      "image/png": "[encoded data removed]",
      "text/plain": [
       "<Figure size 432x288 with 2 Axes>"
      ]
     },
     "metadata": {
      "needs_background": "light"
     },
     "output_type": "display_data"
    }
   ],
   "source": [
    "# import required modules\n",
    "import numpy as np\n",
    "import matplotlib.pyplot as plt\n",
    "import seaborn as sns\n",
    "%matplotlib inline\n",
    "\n",
    "class_names=[0,1] # name  of classes\n",
    "fig, ax = plt.subplots()\n",
    "tick_marks = np.arange(len(class_names))\n",
    "plt.xticks(tick_marks, class_names)\n",
    "plt.yticks(tick_marks, class_names)\n",
    "\n",
    "# create heatmap\n",
    "sns.heatmap(pd.DataFrame(confusion_matrix), annot=True, cmap=\"YlGnBu\" ,fmt='g')\n",
    "ax.xaxis.set_label_position(\"top\")\n",
    "plt.tight_layout()\n",
    "plt.title('Confusion matrix', y=1.1)\n",
    "plt.ylabel('Actual label')\n",
    "plt.xlabel('Predicted label')"
   ]
  },
  {
   "cell_type": "code",
   "execution_count": 8,
   "metadata": {},
   "outputs": [
    {
     "name": "stdout",
     "output_type": "stream",
     "text": [
      "Accuracy:  0.6644993498049415\n",
      "Precision:  0.7037037037037037\n",
      "Recall:  0.7949790794979079\n",
      "f-score:  0.7465618860510806\n",
      "\n",
      "Blanced Accuracy:  0.6225754504018749\n",
      "Average Precision:  0.6868679540790799\n",
      "Accuracy (count):  511\n"
     ]
    }
   ],
   "source": [
    "print(\"Accuracy: \",metrics.accuracy_score(y_test, Y_predict))\n",
    "print(\"Precision: \",metrics.precision_score(y_test, Y_predict))\n",
    "print(\"Recall: \",metrics.recall_score(y_test, Y_predict))\n",
    "print(\"f-score: \",metrics.f1_score(y_test, Y_predict))\n",
    "print(\"\")\n",
    "print(\"Blanced Accuracy: \",metrics.balanced_accuracy_score(y_test, Y_predict))\n",
    "print(\"Average Precision: \",metrics.average_precision_score(y_test, Y_predict))\n",
    "print(\"Accuracy (count): \",metrics.accuracy_score(y_test, Y_predict, normalize=False))"
   ]
  },
  {
   "cell_type": "code",
   "execution_count": 9,
   "metadata": {},
   "outputs": [
    {
     "name": "stdout",
     "output_type": "stream",
     "text": [
      "              precision    recall  f1-score   support\n",
      "\n",
      "           0       0.57      0.45      0.50       291\n",
      "           1       0.70      0.79      0.75       478\n",
      "\n",
      "   micro avg       0.66      0.66      0.66       769\n",
      "   macro avg       0.64      0.62      0.63       769\n",
      "weighted avg       0.65      0.66      0.65       769\n",
      "\n"
     ]
    }
   ],
   "source": [
    "print(classification_report(y_test, Y_predict))"
   ]
  },
  {
   "cell_type": "code",
   "execution_count": 10,
   "metadata": {},
   "outputs": [
    {
     "data": {
      "image/png": "[encoded data removed]",
      "text/plain": [
       "<Figure size 432x288 with 1 Axes>"
      ]
     },
     "metadata": {
      "needs_background": "light"
     },
     "output_type": "display_data"
    }
   ],
   "source": [
    "y_pred_proba = clf.predict_proba(X_test)[::,1]\n",
    "fpr, tpr, _ = metrics.roc_curve(y_test,  y_pred_proba)\n",
    "auc = metrics.roc_auc_score(y_test, y_pred_proba)\n",
    "plt.plot(fpr,tpr,label=\"data 1, auc=\"+str(auc))\n",
    "plt.legend(loc=4)\n",
    "plt.show()"
   ]
  },
  {
   "cell_type": "code",
   "execution_count": null,
   "metadata": {},
   "outputs": [],
   "source": []
  },
  {
   "cell_type": "code",
   "execution_count": 11,
   "metadata": {},
   "outputs": [
    {
     "name": "stdout",
     "output_type": "stream",
     "text": [
      "[-0.95       -0.10632184 -0.60416667 -0.21695402 -0.43821839 -0.32758621\n",
      " -0.16163793 -0.27227011 -0.39398386 -0.84005869]\n",
      "Mean 5-Fold R Squared: -0.4311197725605278\n"
     ]
    }
   ],
   "source": [
    "#Perform the training using KFolds cross validation method\n",
    "\n",
    "cv_r2_scores_rf = cross_val_score(clf, X_test, np.ravel(y_test), cv=10, scoring='r2')\n",
    "print(cv_r2_scores_rf)\n",
    "print(\"Mean 5-Fold R Squared: {}\".format(np.mean(cv_r2_scores_rf)))"
   ]
  },
  {
   "cell_type": "code",
   "execution_count": 13,
   "metadata": {},
   "outputs": [
    {
     "name": "stdout",
     "output_type": "stream",
     "text": [
      "Tiempo de demora validacion cruzada : 689.2745361328125 segundos\n",
      "\n",
      "Model Score: 0.6644993498049415\n",
      "\n",
      "Cross Validated Score 10 Fold: [0.53846154 0.75324675 0.5974026  0.66233766 0.66233766 0.62337662\n",
      " 0.72727273 0.7012987  0.64473684 0.55263158]\n",
      "\n",
      "Cross Validated MEAN Score 10 Fold: 0.6463102686786897\n",
      "Cross Validated MEAN Score 10 Fold: 64.63102686786897\n",
      "\n",
      "Cross Validated STD Score 10 Fold: 0.06697406023026688\n",
      "Cross Validated STD Score 10 Fold: 6.697406023026688\n",
      "\n",
      "The mean score and the 95% confidence interval of the score estimate are hence given by:\n",
      "Accuracy: 0.65 (+/- 0.13)\n"
     ]
    }
   ],
   "source": [
    "# Scoring model on testing data (k=10)\n",
    "\n",
    "scores = cross_val_score(clf,X_test, np.ravel(y_test),cv=10)\n",
    "\n",
    "print(\"Tiempo de demora validacion cruzada : %s segundos\" % (time.time() - start_time))\n",
    "print(\"\")\n",
    "print('Model Score:',score)\n",
    "print(\"\")\n",
    "print('Cross Validated Score 10 Fold:',scores)\n",
    "print(\"\")\n",
    "print('Cross Validated MEAN Score 10 Fold:',scores.mean())\n",
    "print('Cross Validated MEAN Score 10 Fold:',scores.mean()*100)\n",
    "print(\"\")\n",
    "print('Cross Validated STD Score 10 Fold:',scores.std())\n",
    "print('Cross Validated STD Score 10 Fold:',scores.std()*100)\n",
    "print(\"\")\n",
    "print(\"The mean score and the 95% confidence interval of the score estimate are hence given by:\")\n",
    "print(\"Accuracy: %0.2f (+/- %0.2f)\" % (scores.mean(), scores.std() * 2))"
   ]
  },
  {
   "cell_type": "code",
   "execution_count": null,
   "metadata": {},
   "outputs": [],
   "source": []
  }
 ],
 "metadata": {
  "kernelspec": {
   "display_name": "Python 3",
   "language": "python",
   "name": "python3"
  },
  "language_info": {
   "codemirror_mode": {
    "name": "ipython",
    "version": 3
   },
   "file_extension": ".py",
   "mimetype": "text/x-python",
   "name": "python",
   "nbconvert_exporter": "python",
   "pygments_lexer": "ipython3",
   "version": "3.7.3"
  }
 },
 "nbformat": 4,
 "nbformat_minor": 2
}
