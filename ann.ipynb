{
 "cells": [
  {
   "cell_type": "code",
   "execution_count": 12,
   "metadata": {},
   "outputs": [],
   "source": [
    "import tensorflow as tf\n",
    "import pandas as pd\n",
    "import numpy as np\n",
    "import os\n",
    "import matplotlib\n",
    "import matplotlib.pyplot as plt\n",
    "import random\n",
    "%matplotlib inline\n",
    "import shutil\n",
    "import tensorflow.contrib.learn as tflearn\n",
    "import tensorflow.contrib.layers as tflayers\n",
    "from tensorflow.contrib.learn.python.learn import learn_runner\n",
    "import tensorflow.contrib.metrics as metrics\n",
    "import tensorflow.contrib.rnn as rnn\n",
    "from matplotlib.pylab import rcParams\n",
    "rcParams['figure.figsize'] = 15, 6"
   ]
  },
  {
   "cell_type": "code",
   "execution_count": 6,
   "metadata": {},
   "outputs": [
    {
     "name": "stdout",
     "output_type": "stream",
     "text": [
      "            #guests\n",
      "time               \n",
      "2008-01-01      228\n",
      "2008-02-01      129\n",
      "2008-03-01       79\n",
      "2008-04-01      111\n",
      "2008-05-01      123\n",
      "DatetimeIndex(['2008-01-01', '2008-02-01', '2008-03-01', '2008-04-01',\n",
      "               '2008-05-01', '2008-06-01', '2008-07-01', '2008-08-01',\n",
      "               '2008-09-01', '2008-10-01',\n",
      "               ...\n",
      "               '2017-02-01', '2017-03-01', '2017-04-01', '2017-05-01',\n",
      "               '2017-06-01', '2017-07-01', '2017-08-01', '2017-09-01',\n",
      "               '2017-10-01', '2017-11-01'],\n",
      "              dtype='datetime64[ns]', name='time', length=119, freq=None)\n"
     ]
    },
    {
     "data": {
      "image/png": "[encoded data removed]",
      "text/plain": [
       "<Figure size 432x288 with 1 Axes>"
      ]
     },
     "metadata": {},
     "output_type": "display_data"
    },
    {
     "data": {
      "text/plain": [
       "time\n",
       "2008-01-01    228\n",
       "2008-02-01    129\n",
       "2008-03-01     79\n",
       "2008-04-01    111\n",
       "2008-05-01    123\n",
       "2008-06-01    115\n",
       "2008-07-01    136\n",
       "2008-08-01    141\n",
       "2008-09-01    196\n",
       "2008-10-01    241\n",
       "Name: #guests, dtype: int64"
      ]
     },
     "execution_count": 6,
     "metadata": {},
     "output_type": "execute_result"
    }
   ],
   "source": [
    "dateparse = lambda dates: pd.datetime.strptime(dates, '%Y-%m')\n",
    "data = pd.read_csv('./data/hotelguests.csv', parse_dates=['time'], index_col='time',date_parser=dateparse)\n",
    "print(data.head())\n",
    "print(data.index)\n",
    "ts = data['#guests']\n",
    "ts.plot(c='b', title='Example Time series')\n",
    "plt.show()\n",
    "ts.head(10)"
   ]
  },
  {
   "cell_type": "code",
   "execution_count": 7,
   "metadata": {},
   "outputs": [
    {
     "name": "stdout",
     "output_type": "stream",
     "text": [
      "19\n",
      "(19, 6, 1)\n",
      "[[[228]\n",
      "  [129]\n",
      "  [ 79]\n",
      "  [111]\n",
      "  [123]\n",
      "  [115]]\n",
      "\n",
      " [[136]\n",
      "  [141]\n",
      "  [196]\n",
      "  [241]\n",
      "  [214]\n",
      "  [142]]]\n",
      "[[[129]\n",
      "  [ 79]\n",
      "  [111]\n",
      "  [123]\n",
      "  [115]\n",
      "  [136]]]\n",
      "(19, 6, 1)\n"
     ]
    }
   ],
   "source": [
    "TS = np.array(ts)\n",
    "num_periods = 6\n",
    "f_horizon = 1\n",
    "x_data = TS[:(len(TS)-(len(TS)% num_periods))]\n",
    "x_batches = x_data.reshape(-1, 6, 1)\n",
    "\n",
    "y_data = TS[1:(len(TS)-(len(TS) % num_periods)) + f_horizon]\n",
    "y_batches = y_data.reshape(-1, 6, 1)\n",
    "print(len(x_batches))\n",
    "print(x_batches.shape)\n",
    "print(x_batches[0:2])\n",
    "\n",
    "print(y_batches[0:1])\n",
    "print(y_batches.shape)"
   ]
  },
  {
   "cell_type": "code",
   "execution_count": 8,
   "metadata": {},
   "outputs": [
    {
     "name": "stdout",
     "output_type": "stream",
     "text": [
      "(1, 6, 1)\n",
      "[[[173]\n",
      "  [183]\n",
      "  [158]\n",
      "  [129]\n",
      "  [190]\n",
      "  [105]]]\n"
     ]
    }
   ],
   "source": [
    "def test_data(series, forecast, num_periods):\n",
    "    test_x_setup = TS[-(num_periods + forecast):]\n",
    "    testX = test_x_setup[:num_periods].reshape(-1, 6, 1)\n",
    "    testY = TS[-(num_periods):].reshape(-1, 6, 1)\n",
    "    return testX,testY\n",
    "X_test, Y_test = test_data(TS, f_horizon, num_periods)\n",
    "print(X_test.shape)\n",
    "print(X_test)"
   ]
  },
  {
   "cell_type": "code",
   "execution_count": 9,
   "metadata": {},
   "outputs": [],
   "source": [
    "tf.reset_default_graph()\n",
    "\n",
    "num_periods = 6\n",
    "inputs = 1\n",
    "hidden = 100\n",
    "output = 1\n",
    "\n",
    "X = tf.placeholder(tf.float32, [None, num_periods, inputs])\n",
    "y = tf.placeholder(tf.float32, [None, num_periods, output])\n",
    "\n",
    "basic_cell = tf.contrib.rnn.BasicLSTMCell(num_units=hidden, activation=tf.nn.relu)\n",
    "rnn_output, states = tf.nn.dynamic_rnn(basic_cell, X, dtype=tf.float32)\n",
    "#BasicRNNCell\n",
    "learning_rate = 0.001\n",
    "\n",
    "stacked_rnn_output = tf.reshape(rnn_output,[-1,hidden])\n",
    "stacked_outputs = tf.layers.dense(stacked_rnn_output, output)\n",
    "outputs = tf.reshape(stacked_outputs, [-1, num_periods, output])\n",
    "\n",
    "loss = tf.reduce_sum(tf.square(outputs - y ))\n",
    "optimizer = tf.train.AdamOptimizer(learning_rate=learning_rate)\n",
    "training_op = optimizer.minimize(loss)\n",
    "\n",
    "init = tf.global_variables_initializer()\n"
   ]
  },
  {
   "cell_type": "code",
   "execution_count": 10,
   "metadata": {},
   "outputs": [
    {
     "name": "stdout",
     "output_type": "stream",
     "text": [
      "0 \tMSE: 3685862.8\n",
      "100 \tMSE: 320290.03\n",
      "200 \tMSE: 200219.81\n",
      "300 \tMSE: 159360.86\n",
      "400 \tMSE: 107293.45\n",
      "500 \tMSE: 86823.04\n",
      "600 \tMSE: 87908.87\n",
      "700 \tMSE: 71335.83\n",
      "800 \tMSE: 65172.074\n",
      "900 \tMSE: 61745.53\n",
      "1000 \tMSE: 56379.43\n",
      "1100 \tMSE: 61683.645\n",
      "1200 \tMSE: 48923.96\n",
      "1300 \tMSE: 44564.137\n",
      "1400 \tMSE: 53033.38\n",
      "1500 \tMSE: 36894.223\n",
      "1600 \tMSE: 33992.047\n",
      "1700 \tMSE: 55625.137\n",
      "1800 \tMSE: 36733.242\n",
      "1900 \tMSE: 41703.53\n",
      "2000 \tMSE: 35086.746\n",
      "2100 \tMSE: 30568.936\n",
      "2200 \tMSE: 27771.342\n",
      "2300 \tMSE: 26687.455\n",
      "2400 \tMSE: 26244.512\n",
      "2500 \tMSE: 25451.592\n",
      "2600 \tMSE: 24220.98\n",
      "2700 \tMSE: 109198.71\n",
      "2800 \tMSE: 51084.824\n",
      "2900 \tMSE: 41889.082\n",
      "[[[134.29625]\n",
      "  [253.12816]\n",
      "  [255.17166]\n",
      "  [205.26852]\n",
      "  [152.39789]\n",
      "  [240.08786]]]\n"
     ]
    }
   ],
   "source": [
    "epochs = 3000\n",
    "\n",
    "with tf.Session() as sess:\n",
    "    init.run()\n",
    "    for ep in range(epochs):\n",
    "        sess.run(training_op, feed_dict={X: x_batches, y: y_batches})\n",
    "        if ep % 100 == 0:\n",
    "            mse = loss.eval(feed_dict={X: x_batches, y: y_batches})\n",
    "            print(ep, \"\\tMSE:\", mse)\n",
    "    y_pred = sess.run(outputs, feed_dict={X: X_test})\n",
    "    print(y_pred)"
   ]
  },
  {
   "cell_type": "code",
   "execution_count": 11,
   "metadata": {},
   "outputs": [
    {
     "data": {
      "image/png": "[encoded data removed]",
      "text/plain": [
       "<Figure size 432x288 with 1 Axes>"
      ]
     },
     "metadata": {},
     "output_type": "display_data"
    }
   ],
   "source": [
    "plt.title(\"Forecast vs Actual\", fontsize=14)\n",
    "plt.plot(pd.Series(np.ravel(Y_test)), 'bo', markersize=10, label=\"Actual\")\n",
    "plt.plot(pd.Series(np.ravel(y_pred)), 'r.', markersize=10, label=\"Forecast\")\n",
    "plt.legend(loc=\"upper left\")\n",
    "plt.xlabel(\"Time Periods\")\n",
    "\n",
    "plt.show()"
   ]
  },
  {
   "cell_type": "raw",
   "metadata": {},
   "source": []
  }
 ],
 "metadata": {
  "kernelspec": {
   "display_name": "Python 3",
   "language": "python",
   "name": "python3"
  },
  "language_info": {
   "codemirror_mode": {
    "name": "ipython",
    "version": 3
   },
   "file_extension": ".py",
   "mimetype": "text/x-python",
   "name": "python",
   "nbconvert_exporter": "python",
   "pygments_lexer": "ipython3",
   "version": "3.6.5"
  }
 },
 "nbformat": 4,
 "nbformat_minor": 2
}
