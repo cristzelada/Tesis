{
 "cells": [
  {
   "cell_type": "code",
   "execution_count": 1,
   "metadata": {},
   "outputs": [
    {
     "name": "stderr",
     "output_type": "stream",
     "text": [
      "C:\\Users\\diego.renteria\\AppData\\Local\\Continuum\\anaconda3\\lib\\site-packages\\h5py\\__init__.py:36: FutureWarning: Conversion of the second argument of issubdtype from `float` to `np.floating` is deprecated. In future, it will be treated as `np.float64 == np.dtype(float).type`.\n",
      "  from ._conv import register_converters as _register_converters\n"
     ]
    }
   ],
   "source": [
    "import tensorflow as tf\n",
    "import pandas as pd\n",
    "import numpy as np\n",
    "import os\n",
    "import matplotlib\n",
    "import matplotlib.pyplot as plt\n",
    "import random\n",
    "%matplotlib inline\n",
    "import shutil\n",
    "import tensorflow.contrib.learn as tflearn\n",
    "import tensorflow.contrib.layers as tflayers\n",
    "from tensorflow.contrib.learn.python.learn import learn_runner\n",
    "import tensorflow.contrib.metrics as metrics\n",
    "import tensorflow.contrib.rnn as rnn\n",
    "from matplotlib.pylab import rcParams\n",
    "rcParams['figure.figsize'] = 15, 6"
   ]
  },
  {
   "cell_type": "code",
   "execution_count": 2,
   "metadata": {},
   "outputs": [
    {
     "name": "stdout",
     "output_type": "stream",
     "text": [
      "            #guests\n",
      "time               \n",
      "2012-01-01      238\n",
      "2012-02-01      129\n",
      "2012-03-01      110\n",
      "2012-04-01      230\n",
      "2012-05-01      158\n",
      "DatetimeIndex(['2012-01-01', '2012-02-01', '2012-03-01', '2012-04-01',\n",
      "               '2012-05-01', '2012-06-01', '2012-07-01', '2012-08-01',\n",
      "               '2012-09-01', '2012-10-01', '2012-11-01', '2012-12-01',\n",
      "               '2013-01-01', '2013-02-01', '2013-03-01', '2013-04-01',\n",
      "               '2013-05-01', '2013-06-01', '2013-07-01', '2013-08-01',\n",
      "               '2013-09-01', '2013-10-01', '2013-11-01', '2013-12-01',\n",
      "               '2014-01-01', '2014-02-01', '2014-03-01', '2014-04-01',\n",
      "               '2014-05-01', '2014-06-01', '2014-07-01', '2014-08-01',\n",
      "               '2014-09-01', '2014-10-01', '2014-11-01', '2014-12-01',\n",
      "               '2015-01-01', '2015-02-01', '2015-03-01', '2015-04-01',\n",
      "               '2015-05-01', '2015-06-01', '2015-07-01', '2015-08-01',\n",
      "               '2015-09-01', '2015-10-01', '2015-11-01', '2015-12-01',\n",
      "               '2016-01-01', '2016-02-01', '2016-03-01', '2016-04-01',\n",
      "               '2016-05-01', '2016-06-01', '2016-07-01', '2016-08-01',\n",
      "               '2016-09-01', '2016-10-01', '2016-11-01', '2016-12-01',\n",
      "               '2017-01-01', '2017-02-01', '2017-03-01', '2017-04-01',\n",
      "               '2017-05-01', '2017-06-01', '2017-07-01', '2017-08-01',\n",
      "               '2017-09-01', '2017-10-01', '2017-11-01'],\n",
      "              dtype='datetime64[ns]', name='time', freq=None)\n"
     ]
    },
    {
     "data": {
      "image/png": "[encoded data removed]",
      "text/plain": [
       "<matplotlib.figure.Figure at 0x258948e1e48>"
      ]
     },
     "metadata": {},
     "output_type": "display_data"
    },
    {
     "data": {
      "text/plain": [
       "time\n",
       "2012-01-01    238\n",
       "2012-02-01    129\n",
       "2012-03-01    110\n",
       "2012-04-01    230\n",
       "2012-05-01    158\n",
       "2012-06-01    125\n",
       "2012-07-01    116\n",
       "2012-08-01    121\n",
       "2012-09-01    176\n",
       "2012-10-01    181\n",
       "Name: #guests, dtype: int64"
      ]
     },
     "execution_count": 2,
     "metadata": {},
     "output_type": "execute_result"
    }
   ],
   "source": [
    "dateparse = lambda dates: pd.datetime.strptime(dates, '%Y-%m')\n",
    "data = pd.read_csv('./data/hotelguests.csv', parse_dates=['time'], index_col='time',date_parser=dateparse)\n",
    "print(data.head())\n",
    "print(data.index)\n",
    "ts = data['#guests']\n",
    "ts.plot(c='b', title='Example Time series')\n",
    "plt.show()\n",
    "ts.head(10)"
   ]
  },
  {
   "cell_type": "code",
   "execution_count": 3,
   "metadata": {},
   "outputs": [
    {
     "name": "stdout",
     "output_type": "stream",
     "text": [
      "11\n",
      "(11, 6, 1)\n",
      "[[[238]\n",
      "  [129]\n",
      "  [110]\n",
      "  [230]\n",
      "  [158]\n",
      "  [125]]\n",
      "\n",
      " [[116]\n",
      "  [121]\n",
      "  [176]\n",
      "  [181]\n",
      "  [224]\n",
      "  [138]]]\n",
      "[[[129]\n",
      "  [110]\n",
      "  [230]\n",
      "  [158]\n",
      "  [125]\n",
      "  [116]]]\n",
      "(11, 6, 1)\n"
     ]
    }
   ],
   "source": [
    "TS = np.array(ts)\n",
    "num_periods = 6\n",
    "f_horizon = 1\n",
    "x_data = TS[:(len(TS)-(len(TS)% num_periods))]\n",
    "x_batches = x_data.reshape(-1, 6, 1)\n",
    "\n",
    "y_data = TS[1:(len(TS)-(len(TS) % num_periods)) + f_horizon]\n",
    "y_batches = y_data.reshape(-1, 6, 1)\n",
    "print(len(x_batches))\n",
    "print(x_batches.shape)\n",
    "print(x_batches[0:2])\n",
    "\n",
    "print(y_batches[0:1])\n",
    "print(y_batches.shape)"
   ]
  },
  {
   "cell_type": "code",
   "execution_count": 4,
   "metadata": {},
   "outputs": [
    {
     "name": "stdout",
     "output_type": "stream",
     "text": [
      "(1, 6, 1)\n",
      "[[[173]\n",
      "  [183]\n",
      "  [158]\n",
      "  [129]\n",
      "  [190]\n",
      "  [105]]]\n"
     ]
    }
   ],
   "source": [
    "def test_data(series, forecast, num_periods):\n",
    "    test_x_setup = TS[-(num_periods + forecast):]\n",
    "    testX = test_x_setup[:num_periods].reshape(-1, 6, 1)\n",
    "    testY = TS[-(num_periods):].reshape(-1, 6, 1)\n",
    "    return testX,testY\n",
    "X_test, Y_test = test_data(TS, f_horizon, num_periods)\n",
    "print(X_test.shape)\n",
    "print(X_test)"
   ]
  },
  {
   "cell_type": "code",
   "execution_count": 5,
   "metadata": {},
   "outputs": [],
   "source": [
    "tf.reset_default_graph()\n",
    "\n",
    "num_periods = 6\n",
    "inputs = 1\n",
    "hidden = 200\n",
    "output = 1\n",
    "\n",
    "X = tf.placeholder(tf.float32, [None, num_periods, inputs])\n",
    "y = tf.placeholder(tf.float32, [None, num_periods, output])\n",
    "\n",
    "basic_cell = tf.contrib.rnn.BasicLSTMCell(num_units=hidden, activation=tf.nn.relu)\n",
    "rnn_output, states = tf.nn.dynamic_rnn(basic_cell, X, dtype=tf.float32)\n",
    "#BasicRNNCell\n",
    "#BasicLSTMCell\n",
    "learning_rate = 0.001\n",
    "\n",
    "stacked_rnn_output = tf.reshape(rnn_output,[-1,hidden])\n",
    "stacked_outputs = tf.layers.dense(stacked_rnn_output, output)\n",
    "outputs = tf.reshape(stacked_outputs, [-1, num_periods, output])\n",
    "\n",
    "loss = tf.reduce_sum(tf.square(outputs - y ))\n",
    "optimizer = tf.train.AdamOptimizer(learning_rate=learning_rate)\n",
    "training_op = optimizer.minimize(loss)\n",
    "\n",
    "init = tf.global_variables_initializer()\n"
   ]
  },
  {
   "cell_type": "code",
   "execution_count": 6,
   "metadata": {},
   "outputs": [
    {
     "name": "stdout",
     "output_type": "stream",
     "text": [
      "0 \tMSE: 1865227.2\n",
      "100 \tMSE: 139188.0\n",
      "200 \tMSE: 51724.65\n",
      "300 \tMSE: 55623.41\n",
      "400 \tMSE: 30094.78\n",
      "500 \tMSE: 26975.572\n",
      "600 \tMSE: 21722.705\n",
      "700 \tMSE: 17449.094\n",
      "800 \tMSE: 12580.334\n",
      "900 \tMSE: 12383.239\n",
      "1000 \tMSE: 29600.832\n",
      "1100 \tMSE: 8652.11\n",
      "1200 \tMSE: 6346.2837\n",
      "1300 \tMSE: 146907.11\n",
      "1400 \tMSE: 22656.084\n",
      "1500 \tMSE: 9171.404\n",
      "1600 \tMSE: 7938.2197\n",
      "1700 \tMSE: 9546.609\n",
      "1800 \tMSE: 7229.3433\n",
      "1900 \tMSE: 6055.933\n",
      "2000 \tMSE: 5393.6294\n",
      "2100 \tMSE: 4696.692\n",
      "2200 \tMSE: 4402.64\n",
      "2300 \tMSE: 4184.6836\n",
      "2400 \tMSE: 4537.3057\n",
      "2500 \tMSE: 3983.9465\n",
      "2600 \tMSE: 3860.795\n",
      "2700 \tMSE: 3794.0842\n",
      "2800 \tMSE: 3752.6055\n",
      "2900 \tMSE: 3718.605\n",
      "3000 \tMSE: 3694.912\n",
      "3100 \tMSE: 5751.83\n",
      "3200 \tMSE: 3858.8225\n",
      "3300 \tMSE: 3719.1863\n",
      "3400 \tMSE: 3681.2195\n",
      "3500 \tMSE: 3661.506\n",
      "3600 \tMSE: 3646.6846\n",
      "3700 \tMSE: 3634.2808\n",
      "3800 \tMSE: 3623.8054\n",
      "3900 \tMSE: 3614.8665\n",
      "4000 \tMSE: 3607.4841\n",
      "4100 \tMSE: 3600.979\n",
      "4200 \tMSE: 3594.8484\n",
      "4300 \tMSE: 3592.246\n",
      "4400 \tMSE: 3585.2854\n",
      "4500 \tMSE: 3583.0168\n",
      "4600 \tMSE: 3577.6104\n",
      "4700 \tMSE: 3594.8054\n",
      "4800 \tMSE: 3569.8594\n",
      "4900 \tMSE: 3565.004\n",
      "[[[134.04057]\n",
      "  [241.59407]\n",
      "  [196.13005]\n",
      "  [228.97139]\n",
      "  [128.09541]\n",
      "  [265.3712 ]]]\n"
     ]
    }
   ],
   "source": [
    "epochs = 5000\n",
    "\n",
    "with tf.Session() as sess:\n",
    "    init.run()\n",
    "    for ep in range(epochs):\n",
    "        sess.run(training_op, feed_dict={X: x_batches, y: y_batches})\n",
    "        if ep % 100 == 0:\n",
    "            mse = loss.eval(feed_dict={X: x_batches, y: y_batches})\n",
    "            print(ep, \"\\tMSE:\", mse)\n",
    "    y_pred = sess.run(outputs, feed_dict={X: X_test})\n",
    "    print(y_pred)"
   ]
  },
  {
   "cell_type": "code",
   "execution_count": 7,
   "metadata": {},
   "outputs": [
    {
     "data": {
      "image/png": "[encoded data removed]",
      "text/plain": [
       "<matplotlib.figure.Figure at 0x25894c5dd68>"
      ]
     },
     "metadata": {},
     "output_type": "display_data"
    },
    {
     "name": "stdout",
     "output_type": "stream",
     "text": [
      "TEST\n",
      "[[[183]\n",
      "  [158]\n",
      "  [129]\n",
      "  [190]\n",
      "  [105]\n",
      "  [167]]]\n",
      "PRED\n",
      "[[[134.04057]\n",
      "  [241.59407]\n",
      "  [196.13005]\n",
      "  [228.97139]\n",
      "  [128.09541]\n",
      "  [265.3712 ]]]\n"
     ]
    }
   ],
   "source": [
    "plt.title(\"Forecast vs Actual\", fontsize=14)\n",
    "plt.plot(pd.Series(np.ravel(Y_test)), 'b', markersize=10, label=\"Actual\")\n",
    "plt.plot(pd.Series(np.ravel(y_pred)), 'r', markersize=10, label=\"Forecast\")\n",
    "plt.legend(loc=\"upper left\")\n",
    "plt.xlabel(\"Time Periods\")\n",
    "\n",
    "plt.show()\n",
    "print('TEST')\n",
    "print(Y_test)\n",
    "print('PRED')\n",
    "print(y_pred)"
   ]
  },
  {
   "cell_type": "raw",
   "metadata": {},
   "source": []
  },
  {
   "cell_type": "code",
   "execution_count": null,
   "metadata": {
    "collapsed": true
   },
   "outputs": [],
   "source": []
  }
 ],
 "metadata": {
  "kernelspec": {
   "display_name": "Python 3",
   "language": "python",
   "name": "python3"
  },
  "language_info": {
   "codemirror_mode": {
    "name": "ipython",
    "version": 3
   },
   "file_extension": ".py",
   "mimetype": "text/x-python",
   "name": "python",
   "nbconvert_exporter": "python",
   "pygments_lexer": "ipython3",
   "version": "3.6.4"
  }
 },
 "nbformat": 4,
 "nbformat_minor": 2
}
