{
 "cells": [
  {
   "cell_type": "code",
   "execution_count": 1,
   "metadata": {},
   "outputs": [
    {
     "name": "stderr",
     "output_type": "stream",
     "text": [
      "C:\\Users\\cros4\\Anaconda3\\lib\\site-packages\\h5py\\__init__.py:36: FutureWarning: Conversion of the second argument of issubdtype from `float` to `np.floating` is deprecated. In future, it will be treated as `np.float64 == np.dtype(float).type`.\n",
      "  from ._conv import register_converters as _register_converters\n"
     ]
    }
   ],
   "source": [
    "import tensorflow as tf\n",
    "import pandas as pd\n",
    "import numpy as np\n",
    "import os\n",
    "import matplotlib\n",
    "import matplotlib.pyplot as plt\n",
    "import random\n",
    "%matplotlib inline\n",
    "import shutil\n",
    "import tensorflow.contrib.learn as tflearn\n",
    "import tensorflow.contrib.layers as tflayers\n",
    "from tensorflow.contrib.learn.python.learn import learn_runner\n",
    "import tensorflow.contrib.metrics as metrics\n",
    "import tensorflow.contrib.rnn as rnn\n",
    "from matplotlib.pylab import rcParams\n",
    "rcParams['figure.figsize'] = 15, 6"
   ]
  },
  {
   "cell_type": "code",
   "execution_count": 2,
   "metadata": {},
   "outputs": [
    {
     "name": "stdout",
     "output_type": "stream",
     "text": [
      "            #guests\n",
      "time               \n",
      "2012-01-01      238\n",
      "2012-02-01      129\n",
      "2012-03-01      110\n",
      "2012-04-01      230\n",
      "2012-05-01      158\n",
      "DatetimeIndex(['2012-01-01', '2012-02-01', '2012-03-01', '2012-04-01',\n",
      "               '2012-05-01', '2012-06-01', '2012-07-01', '2012-08-01',\n",
      "               '2012-09-01', '2012-10-01', '2012-11-01', '2012-12-01',\n",
      "               '2013-01-01', '2013-02-01', '2013-03-01', '2013-04-01',\n",
      "               '2013-05-01', '2013-06-01', '2013-07-01', '2013-08-01',\n",
      "               '2013-09-01', '2013-10-01', '2013-11-01', '2013-12-01',\n",
      "               '2014-01-01', '2014-02-01', '2014-03-01', '2014-04-01',\n",
      "               '2014-05-01', '2014-06-01', '2014-07-01', '2014-08-01',\n",
      "               '2014-09-01', '2014-10-01', '2014-11-01', '2014-12-01',\n",
      "               '2015-01-01', '2015-02-01', '2015-03-01', '2015-04-01',\n",
      "               '2015-05-01', '2015-06-01', '2015-07-01', '2015-08-01',\n",
      "               '2015-09-01', '2015-10-01', '2015-11-01', '2015-12-01',\n",
      "               '2016-01-01', '2016-02-01', '2016-03-01', '2016-04-01',\n",
      "               '2016-05-01', '2016-06-01', '2016-07-01', '2016-08-01',\n",
      "               '2016-09-01', '2016-10-01', '2016-11-01', '2016-12-01',\n",
      "               '2017-01-01', '2017-02-01', '2017-03-01', '2017-04-01',\n",
      "               '2017-05-01', '2017-06-01', '2017-07-01', '2017-08-01',\n",
      "               '2017-09-01', '2017-10-01', '2017-11-01'],\n",
      "              dtype='datetime64[ns]', name='time', freq=None)\n"
     ]
    },
    {
     "data": {
      "image/png": "[encoded data removed]",
      "text/plain": [
       "<Figure size 432x288 with 1 Axes>"
      ]
     },
     "metadata": {},
     "output_type": "display_data"
    },
    {
     "data": {
      "text/plain": [
       "time\n",
       "2012-01-01    238\n",
       "2012-02-01    129\n",
       "2012-03-01    110\n",
       "2012-04-01    230\n",
       "2012-05-01    158\n",
       "2012-06-01    125\n",
       "2012-07-01    116\n",
       "2012-08-01    121\n",
       "2012-09-01    176\n",
       "2012-10-01    181\n",
       "Name: #guests, dtype: int64"
      ]
     },
     "execution_count": 2,
     "metadata": {},
     "output_type": "execute_result"
    }
   ],
   "source": [
    "dateparse = lambda dates: pd.datetime.strptime(dates, '%Y-%m')\n",
    "data = pd.read_csv('./data/hotelguests.csv', parse_dates=['time'], index_col='time',date_parser=dateparse)\n",
    "print(data.head())\n",
    "print(data.index)\n",
    "ts = data['#guests']\n",
    "ts.plot(c='b', title='Example Time series')\n",
    "plt.show()\n",
    "ts.head(10)"
   ]
  },
  {
   "cell_type": "code",
   "execution_count": 3,
   "metadata": {},
   "outputs": [
    {
     "name": "stdout",
     "output_type": "stream",
     "text": [
      "5\n",
      "(5, 12, 1)\n",
      "[[[238]\n",
      "  [129]\n",
      "  [110]\n",
      "  [230]\n",
      "  [158]\n",
      "  [125]\n",
      "  [116]\n",
      "  [121]\n",
      "  [176]\n",
      "  [181]\n",
      "  [224]\n",
      "  [138]]\n",
      "\n",
      " [[218]\n",
      "  [129]\n",
      "  [139]\n",
      "  [122]\n",
      "  [138]\n",
      "  [125]\n",
      "  [136]\n",
      "  [121]\n",
      "  [126]\n",
      "  [221]\n",
      "  [234]\n",
      "  [141]]]\n",
      "[[[129]\n",
      "  [110]\n",
      "  [230]\n",
      "  [158]\n",
      "  [125]\n",
      "  [116]\n",
      "  [121]\n",
      "  [176]\n",
      "  [181]\n",
      "  [224]\n",
      "  [138]\n",
      "  [218]]]\n",
      "(5, 12, 1)\n"
     ]
    }
   ],
   "source": [
    "TS = np.array(ts)\n",
    "num_periods = 12\n",
    "f_horizon = 1\n",
    "x_data = TS[:(len(TS)-(len(TS)% num_periods))]\n",
    "x_batches = x_data.reshape(-1, 12, 1)\n",
    "\n",
    "y_data = TS[1:(len(TS)-(len(TS) % num_periods)) + f_horizon]\n",
    "y_batches = y_data.reshape(-1, 12, 1)\n",
    "print(len(x_batches))\n",
    "print(x_batches.shape)\n",
    "print(x_batches[0:2])\n",
    "\n",
    "print(y_batches[0:1])\n",
    "print(y_batches.shape)"
   ]
  },
  {
   "cell_type": "code",
   "execution_count": 4,
   "metadata": {},
   "outputs": [
    {
     "name": "stdout",
     "output_type": "stream",
     "text": [
      "(1, 12, 1)\n",
      "[[[244]\n",
      "  [140]\n",
      "  [281]\n",
      "  [185]\n",
      "  [120]\n",
      "  [ 85]\n",
      "  [173]\n",
      "  [183]\n",
      "  [158]\n",
      "  [129]\n",
      "  [190]\n",
      "  [105]]]\n"
     ]
    }
   ],
   "source": [
    "def test_data(series, forecast, num_periods):\n",
    "    test_x_setup = TS[-(num_periods + forecast):]\n",
    "    testX = test_x_setup[:num_periods].reshape(-1, 12, 1)\n",
    "    testY = TS[-(num_periods):].reshape(-1, 12, 1)\n",
    "    return testX,testY\n",
    "X_test, Y_test = test_data(TS, f_horizon, num_periods)\n",
    "print(X_test.shape)\n",
    "print(X_test)"
   ]
  },
  {
   "cell_type": "code",
   "execution_count": 10,
   "metadata": {},
   "outputs": [],
   "source": [
    "tf.reset_default_graph()\n",
    "\n",
    "num_periods = 12\n",
    "inputs = 1\n",
    "hidden = 200\n",
    "output = 1\n",
    "\n",
    "X = tf.placeholder(tf.float32, [None, num_periods, inputs])\n",
    "y = tf.placeholder(tf.float32, [None, num_periods, output])\n",
    "\n",
    "basic_cell = tf.contrib.rnn.BasicLSTMCell(num_units=hidden, activation=tf.nn.relu)\n",
    "rnn_output, states = tf.nn.dynamic_rnn(basic_cell, X, dtype=tf.float32)\n",
    "#BasicRNNCell\n",
    "#BasicLSTMCell\n",
    "learning_rate = 0.001\n",
    "\n",
    "stacked_rnn_output = tf.reshape(rnn_output,[-1,hidden])\n",
    "stacked_outputs = tf.layers.dense(stacked_rnn_output, output)\n",
    "outputs = tf.reshape(stacked_outputs, [-1, num_periods, output])\n",
    "\n",
    "loss = tf.reduce_sum(tf.square(outputs - y ))\n",
    "optimizer = tf.train.AdamOptimizer(learning_rate=learning_rate)\n",
    "training_op = optimizer.minimize(loss)\n",
    "\n",
    "init = tf.global_variables_initializer()\n"
   ]
  },
  {
   "cell_type": "code",
   "execution_count": null,
   "metadata": {},
   "outputs": [
    {
     "name": "stdout",
     "output_type": "stream",
     "text": [
      "0 \tMSE: 1623610.1\n",
      "100 \tMSE: 132474.72\n",
      "200 \tMSE: 89955.51\n",
      "300 \tMSE: 35394.24\n",
      "400 \tMSE: 67153.52\n",
      "500 \tMSE: 58643.07\n",
      "600 \tMSE: 52434.754\n",
      "700 \tMSE: 56180.48\n",
      "800 \tMSE: 41090.2\n",
      "900 \tMSE: 27120.52\n",
      "1000 \tMSE: 233842.47\n",
      "1100 \tMSE: 26308.906\n",
      "1200 \tMSE: 22368.676\n",
      "1300 \tMSE: 35473.53\n",
      "1400 \tMSE: 78941.36\n"
     ]
    }
   ],
   "source": [
    "epochs = 5000\n",
    "\n",
    "with tf.Session() as sess:\n",
    "    init.run()\n",
    "    for ep in range(epochs):\n",
    "        sess.run(training_op, feed_dict={X: x_batches, y: y_batches})\n",
    "        if ep % 100 == 0:\n",
    "            mse = loss.eval(feed_dict={X: x_batches, y: y_batches})\n",
    "            print(ep, \"\\tMSE:\", mse)\n",
    "    y_pred = sess.run(outputs, feed_dict={X: X_test})\n",
    "    print(y_pred)"
   ]
  },
  {
   "cell_type": "code",
   "execution_count": 17,
   "metadata": {},
   "outputs": [],
   "source": [
    "def mean_absolute_percentage_error(y_true, y_pred): \n",
    "    y_true, y_pred = np.array(y_true), np.array(y_pred)\n",
    "    return np.mean(np.abs((y_true - y_pred) / y_true)) * 100, np.mean(np.abs((y_true - y_pred) / y_true))"
   ]
  },
  {
   "cell_type": "code",
   "execution_count": 18,
   "metadata": {},
   "outputs": [
    {
     "data": {
      "image/png": "[encoded data removed]",
      "text/plain": [
       "<Figure size 432x288 with 1 Axes>"
      ]
     },
     "metadata": {},
     "output_type": "display_data"
    },
    {
     "name": "stdout",
     "output_type": "stream",
     "text": [
      "TEST\n",
      "[[[140]\n",
      "  [281]\n",
      "  [185]\n",
      "  [120]\n",
      "  [ 85]\n",
      "  [173]\n",
      "  [183]\n",
      "  [158]\n",
      "  [129]\n",
      "  [190]\n",
      "  [105]\n",
      "  [167]]]\n",
      "PRED\n",
      "[[[149.05313]\n",
      "  [107.57405]\n",
      "  [163.2259 ]\n",
      "  [237.7417 ]\n",
      "  [207.48923]\n",
      "  [218.75156]\n",
      "  [128.27873]\n",
      "  [159.3831 ]\n",
      "  [273.50992]\n",
      "  [341.28323]\n",
      "  [254.22977]\n",
      "  [372.19833]]]\n"
     ]
    }
   ],
   "source": [
    "plt.title(\"Forecast vs Actual\", fontsize=14)\n",
    "plt.plot(pd.Series(np.ravel(Y_test)), 'b', markersize=10, label=\"Actual\")\n",
    "plt.plot(pd.Series(np.ravel(y_pred)), 'r', markersize=10, label=\"Forecast\")\n",
    "plt.legend(loc=\"upper left\")\n",
    "plt.xlabel(\"Time Periods\")\n",
    "\n",
    "plt.show()\n",
    "print('TEST')\n",
    "print(Y_test)\n",
    "print('PRED')\n",
    "print(y_pred)"
   ]
  },
  {
   "cell_type": "code",
   "execution_count": 19,
   "metadata": {},
   "outputs": [
    {
     "name": "stdout",
     "output_type": "stream",
     "text": [
      "MAPE : 69.67027216784443\n",
      "MAD : 0.6967027216784443\n"
     ]
    }
   ],
   "source": [
    "MAPE, MAD = mean_absolute_percentage_error(Y_test,y_pred)\n",
    "print(\"MAPE : {}\".format(MAPE))\n",
    "print(\"MAD : {}\".format(MAD))"
   ]
  },
  {
   "cell_type": "code",
   "execution_count": null,
   "metadata": {
    "collapsed": true
   },
   "outputs": [],
   "source": []
  }
 ],
 "metadata": {
  "kernelspec": {
   "display_name": "Python 3",
   "language": "python",
   "name": "python3"
  },
  "language_info": {
   "codemirror_mode": {
    "name": "ipython",
    "version": 3
   },
   "file_extension": ".py",
   "mimetype": "text/x-python",
   "name": "python",
   "nbconvert_exporter": "python",
   "pygments_lexer": "ipython3",
   "version": "3.6.5"
  }
 },
 "nbformat": 4,
 "nbformat_minor": 2
}
