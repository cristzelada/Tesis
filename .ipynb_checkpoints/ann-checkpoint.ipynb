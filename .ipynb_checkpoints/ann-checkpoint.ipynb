{
 "cells": [
  {
   "cell_type": "code",
   "execution_count": 1,
   "metadata": {},
   "outputs": [
    {
     "name": "stderr",
     "output_type": "stream",
     "text": [
      "C:\\Users\\cros4\\Anaconda3\\lib\\site-packages\\h5py\\__init__.py:36: FutureWarning: Conversion of the second argument of issubdtype from `float` to `np.floating` is deprecated. In future, it will be treated as `np.float64 == np.dtype(float).type`.\n",
      "  from ._conv import register_converters as _register_converters\n"
     ]
    }
   ],
   "source": [
    "import tensorflow as tf\n",
    "import pandas as pd\n",
    "import numpy as np\n",
    "import os\n",
    "import matplotlib\n",
    "import matplotlib.pyplot as plt\n",
    "import random\n",
    "%matplotlib inline\n",
    "import shutil\n",
    "import tensorflow.contrib.learn as tflearn\n",
    "import tensorflow.contrib.layers as tflayers\n",
    "from tensorflow.contrib.learn.python.learn import learn_runner\n",
    "import tensorflow.contrib.metrics as metrics\n",
    "import tensorflow.contrib.rnn as rnn\n",
    "from matplotlib.pylab import rcParams\n",
    "rcParams['figure.figsize'] = 15, 6"
   ]
  },
  {
   "cell_type": "code",
   "execution_count": 2,
   "metadata": {},
   "outputs": [
    {
     "name": "stdout",
     "output_type": "stream",
     "text": [
      "            #guests\n",
      "time               \n",
      "2012-01-01      238\n",
      "2012-02-01      129\n",
      "2012-03-01      110\n",
      "2012-04-01      230\n",
      "2012-05-01      158\n",
      "DatetimeIndex(['2012-01-01', '2012-02-01', '2012-03-01', '2012-04-01',\n",
      "               '2012-05-01', '2012-06-01', '2012-07-01', '2012-08-01',\n",
      "               '2012-09-01', '2012-10-01', '2012-11-01', '2012-12-01',\n",
      "               '2013-01-01', '2013-02-01', '2013-03-01', '2013-04-01',\n",
      "               '2013-05-01', '2013-06-01', '2013-07-01', '2013-08-01',\n",
      "               '2013-09-01', '2013-10-01', '2013-11-01', '2013-12-01',\n",
      "               '2014-01-01', '2014-02-01', '2014-03-01', '2014-04-01',\n",
      "               '2014-05-01', '2014-06-01', '2014-07-01', '2014-08-01',\n",
      "               '2014-09-01', '2014-10-01', '2014-11-01', '2014-12-01',\n",
      "               '2015-01-01', '2015-02-01', '2015-03-01', '2015-04-01',\n",
      "               '2015-05-01', '2015-06-01', '2015-07-01', '2015-08-01',\n",
      "               '2015-09-01', '2015-10-01', '2015-11-01', '2015-12-01',\n",
      "               '2016-01-01', '2016-02-01', '2016-03-01', '2016-04-01',\n",
      "               '2016-05-01', '2016-06-01', '2016-07-01', '2016-08-01',\n",
      "               '2016-09-01', '2016-10-01', '2016-11-01', '2016-12-01',\n",
      "               '2017-01-01', '2017-02-01', '2017-03-01', '2017-04-01',\n",
      "               '2017-05-01', '2017-06-01', '2017-07-01', '2017-08-01',\n",
      "               '2017-09-01', '2017-10-01', '2017-11-01'],\n",
      "              dtype='datetime64[ns]', name='time', freq=None)\n"
     ]
    },
    {
     "data": {
      "image/png": "[encoded data removed]",
      "text/plain": [
       "<Figure size 432x288 with 1 Axes>"
      ]
     },
     "metadata": {},
     "output_type": "display_data"
    },
    {
     "data": {
      "text/plain": [
       "time\n",
       "2012-01-01    238\n",
       "2012-02-01    129\n",
       "2012-03-01    110\n",
       "2012-04-01    230\n",
       "2012-05-01    158\n",
       "2012-06-01    125\n",
       "2012-07-01    116\n",
       "2012-08-01    121\n",
       "2012-09-01    176\n",
       "2012-10-01    181\n",
       "Name: #guests, dtype: int64"
      ]
     },
     "execution_count": 2,
     "metadata": {},
     "output_type": "execute_result"
    }
   ],
   "source": [
    "dateparse = lambda dates: pd.datetime.strptime(dates, '%Y-%m')\n",
    "data = pd.read_csv('./data/hotelguests.csv', parse_dates=['time'], index_col='time',date_parser=dateparse)\n",
    "print(data.head())\n",
    "print(data.index)\n",
    "ts = data['#guests']\n",
    "ts.plot(c='b', title='Example Time series')\n",
    "plt.show()\n",
    "ts.head(10)"
   ]
  },
  {
   "cell_type": "code",
   "execution_count": 3,
   "metadata": {},
   "outputs": [
    {
     "name": "stdout",
     "output_type": "stream",
     "text": [
      "11\n",
      "(11, 6, 1)\n",
      "[[[238]\n",
      "  [129]\n",
      "  [110]\n",
      "  [230]\n",
      "  [158]\n",
      "  [125]]\n",
      "\n",
      " [[116]\n",
      "  [121]\n",
      "  [176]\n",
      "  [181]\n",
      "  [224]\n",
      "  [138]]]\n",
      "[[[129]\n",
      "  [110]\n",
      "  [230]\n",
      "  [158]\n",
      "  [125]\n",
      "  [116]]]\n",
      "(11, 6, 1)\n"
     ]
    }
   ],
   "source": [
    "TS = np.array(ts)\n",
    "num_periods = 6\n",
    "f_horizon = 1\n",
    "x_data = TS[:(len(TS)-(len(TS)% num_periods))]\n",
    "x_batches = x_data.reshape(-1, 6, 1)\n",
    "\n",
    "y_data = TS[1:(len(TS)-(len(TS) % num_periods)) + f_horizon]\n",
    "y_batches = y_data.reshape(-1, 6, 1)\n",
    "print(len(x_batches))\n",
    "print(x_batches.shape)\n",
    "print(x_batches[0:2])\n",
    "\n",
    "print(y_batches[0:1])\n",
    "print(y_batches.shape)"
   ]
  },
  {
   "cell_type": "code",
   "execution_count": 4,
   "metadata": {},
   "outputs": [
    {
     "name": "stdout",
     "output_type": "stream",
     "text": [
      "(1, 6, 1)\n",
      "[[[173]\n",
      "  [183]\n",
      "  [158]\n",
      "  [129]\n",
      "  [190]\n",
      "  [105]]]\n"
     ]
    }
   ],
   "source": [
    "def test_data(series, forecast, num_periods):\n",
    "    test_x_setup = TS[-(num_periods + forecast):]\n",
    "    testX = test_x_setup[:num_periods].reshape(-1, 6, 1)\n",
    "    testY = TS[-(num_periods):].reshape(-1, 6, 1)\n",
    "    return testX,testY\n",
    "X_test, Y_test = test_data(TS, f_horizon, num_periods)\n",
    "print(X_test.shape)\n",
    "print(X_test)"
   ]
  },
  {
   "cell_type": "code",
   "execution_count": 39,
   "metadata": {},
   "outputs": [],
   "source": [
    "tf.reset_default_graph()\n",
    "\n",
    "num_periods = 6\n",
    "inputs = 1\n",
    "hidden = 200\n",
    "output = 1\n",
    "\n",
    "X = tf.placeholder(tf.float32, [None, num_periods, inputs])\n",
    "y = tf.placeholder(tf.float32, [None, num_periods, output])\n",
    "\n",
    "basic_cell = tf.contrib.rnn.BasicLSTMCell(num_units=hidden, activation=tf.nn.relu)\n",
    "rnn_output, states = tf.nn.dynamic_rnn(basic_cell, X, dtype=tf.float32)\n",
    "#BasicRNNCell\n",
    "#BasicLSTMCell\n",
    "learning_rate = 0.001\n",
    "\n",
    "stacked_rnn_output = tf.reshape(rnn_output,[-1,hidden])\n",
    "stacked_outputs = tf.layers.dense(stacked_rnn_output, output)\n",
    "outputs = tf.reshape(stacked_outputs, [-1, num_periods, output])\n",
    "\n",
    "loss = tf.reduce_sum(tf.square(outputs - y ))\n",
    "optimizer = tf.train.AdamOptimizer(learning_rate=learning_rate)\n",
    "training_op = optimizer.minimize(loss)\n",
    "\n",
    "init = tf.global_variables_initializer()\n"
   ]
  },
  {
   "cell_type": "code",
   "execution_count": 40,
   "metadata": {},
   "outputs": [
    {
     "name": "stdout",
     "output_type": "stream",
     "text": [
      "0 \tMSE: 1488609.8\n",
      "100 \tMSE: 90604.07\n",
      "200 \tMSE: 57149.688\n",
      "300 \tMSE: 41072.395\n",
      "400 \tMSE: 29670.043\n",
      "500 \tMSE: 32911.8\n",
      "600 \tMSE: 19668.31\n",
      "700 \tMSE: 19458.645\n",
      "800 \tMSE: 12696.185\n",
      "900 \tMSE: 12264.507\n",
      "1000 \tMSE: 10350.377\n",
      "1100 \tMSE: 7090.0137\n",
      "1200 \tMSE: 5380.4233\n",
      "1300 \tMSE: 4655.3687\n",
      "1400 \tMSE: 4299.065\n",
      "1500 \tMSE: 4356.9214\n",
      "1600 \tMSE: 4046.2197\n",
      "1700 \tMSE: 162573.83\n",
      "1800 \tMSE: 73165.42\n",
      "1900 \tMSE: 85789.44\n",
      "2000 \tMSE: 66655.13\n",
      "2100 \tMSE: 63270.832\n",
      "2200 \tMSE: 54612.6\n",
      "2300 \tMSE: 55869.008\n",
      "2400 \tMSE: 37003.14\n",
      "2500 \tMSE: 25104.781\n",
      "2600 \tMSE: 22431.04\n",
      "2700 \tMSE: 14747.93\n",
      "2800 \tMSE: 12259.301\n",
      "2900 \tMSE: 10652.691\n",
      "3000 \tMSE: 29312.48\n",
      "3100 \tMSE: 19928.977\n",
      "3200 \tMSE: 12158.88\n",
      "3300 \tMSE: 9741.481\n",
      "3400 \tMSE: 8362.344\n",
      "3500 \tMSE: 7436.1357\n",
      "3600 \tMSE: 6634.0566\n",
      "3700 \tMSE: 8291.542\n",
      "3800 \tMSE: 5747.677\n",
      "3900 \tMSE: 5358.431\n",
      "4000 \tMSE: 5192.3647\n",
      "4100 \tMSE: 6089.3823\n",
      "4200 \tMSE: 4608.0356\n",
      "4300 \tMSE: 70208.664\n",
      "4400 \tMSE: 42374.395\n",
      "4500 \tMSE: 41679.473\n",
      "4600 \tMSE: 33692.62\n",
      "4700 \tMSE: 27303.863\n",
      "4800 \tMSE: 23112.275\n",
      "4900 \tMSE: 21629.568\n",
      "[[[140.90416]\n",
      "  [203.00964]\n",
      "  [185.23941]\n",
      "  [218.84726]\n",
      "  [231.32019]\n",
      "  [292.35852]]]\n"
     ]
    }
   ],
   "source": [
    "epochs = 5000\n",
    "\n",
    "with tf.Session() as sess:\n",
    "    init.run()\n",
    "    for ep in range(epochs):\n",
    "        sess.run(training_op, feed_dict={X: x_batches, y: y_batches})\n",
    "        if ep % 100 == 0:\n",
    "            mse = loss.eval(feed_dict={X: x_batches, y: y_batches})\n",
    "            print(ep, \"\\tMSE:\", mse)\n",
    "    y_pred = sess.run(outputs, feed_dict={X: X_test})\n",
    "    print(y_pred)"
   ]
  },
  {
   "cell_type": "code",
   "execution_count": 41,
   "metadata": {},
   "outputs": [
    {
     "data": {
      "image/png": "[encoded data removed]",
      "text/plain": [
       "<Figure size 432x288 with 1 Axes>"
      ]
     },
     "metadata": {},
     "output_type": "display_data"
    },
    {
     "name": "stdout",
     "output_type": "stream",
     "text": [
      "TEST\n",
      "[[[183]\n",
      "  [158]\n",
      "  [129]\n",
      "  [190]\n",
      "  [105]\n",
      "  [167]]]\n",
      "PRED\n",
      "[[[140.90416]\n",
      "  [203.00964]\n",
      "  [185.23941]\n",
      "  [218.84726]\n",
      "  [231.32019]\n",
      "  [292.35852]]]\n"
     ]
    }
   ],
   "source": [
    "plt.title(\"Forecast vs Actual\", fontsize=14)\n",
    "plt.plot(pd.Series(np.ravel(Y_test)), 'b', markersize=10, label=\"Actual\")\n",
    "plt.plot(pd.Series(np.ravel(y_pred)), 'r', markersize=10, label=\"Forecast\")\n",
    "plt.legend(loc=\"upper left\")\n",
    "plt.xlabel(\"Time Periods\")\n",
    "\n",
    "plt.show()\n",
    "print('TEST')\n",
    "print(Y_test)\n",
    "print('PRED')\n",
    "print(y_pred)"
   ]
  },
  {
   "cell_type": "raw",
   "metadata": {},
   "source": []
  }
 ],
 "metadata": {
  "kernelspec": {
   "display_name": "Python 3",
   "language": "python",
   "name": "python3"
  },
  "language_info": {
   "codemirror_mode": {
    "name": "ipython",
    "version": 3
   },
   "file_extension": ".py",
   "mimetype": "text/x-python",
   "name": "python",
   "nbconvert_exporter": "python",
   "pygments_lexer": "ipython3",
   "version": "3.6.5"
  }
 },
 "nbformat": 4,
 "nbformat_minor": 2
}
